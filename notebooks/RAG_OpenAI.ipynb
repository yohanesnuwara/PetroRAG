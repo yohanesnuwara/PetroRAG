{
  "cells": [
    {
      "cell_type": "markdown",
      "metadata": {
        "id": "view-in-github",
        "colab_type": "text"
      },
      "source": [
        "<a href=\"https://colab.research.google.com/github/yohanesnuwara/energy-rag/blob/main/notebooks/RAG_OpenAI.ipynb\" target=\"_parent\"><img src=\"https://colab.research.google.com/assets/colab-badge.svg\" alt=\"Open In Colab\"/></a>"
      ]
    },
    {
      "cell_type": "markdown",
      "source": [
        "# RAG with OpenAI"
      ],
      "metadata": {
        "id": "KvTS2_RkLkWF"
      }
    },
    {
      "cell_type": "code",
      "source": [
        "!pip -q install openai==0.28\n",
        "!pip -q install pypdf2\n",
        "!pip -q install tiktoken"
      ],
      "metadata": {
        "id": "YmHDHWYovLnj",
        "outputId": "4e10b47a-7edc-41b2-945b-87a5ee02511f",
        "colab": {
          "base_uri": "https://localhost:8080/"
        }
      },
      "execution_count": null,
      "outputs": [
        {
          "output_type": "stream",
          "name": "stdout",
          "text": [
            "\u001b[2K   \u001b[90m━━━━━━━━━━━━━━━━━━━━━━━━━━━━━━━━━━━━━━━━\u001b[0m \u001b[32m76.5/76.5 kB\u001b[0m \u001b[31m2.1 MB/s\u001b[0m eta \u001b[36m0:00:00\u001b[0m\n",
            "\u001b[2K   \u001b[90m━━━━━━━━━━━━━━━━━━━━━━━━━━━━━━━━━━━━━━━━\u001b[0m \u001b[32m232.6/232.6 kB\u001b[0m \u001b[31m4.1 MB/s\u001b[0m eta \u001b[36m0:00:00\u001b[0m\n",
            "\u001b[2K   \u001b[90m━━━━━━━━━━━━━━━━━━━━━━━━━━━━━━━━━━━━━━━━\u001b[0m \u001b[32m1.2/1.2 MB\u001b[0m \u001b[31m12.9 MB/s\u001b[0m eta \u001b[36m0:00:00\u001b[0m\n",
            "\u001b[?25h"
          ]
        }
      ]
    },
    {
      "cell_type": "code",
      "source": [
        "import numpy as np\n",
        "import pandas as pd\n",
        "import tiktoken\n",
        "import openai\n",
        "import PyPDF2\n",
        "import nltk\n",
        "nltk.download('punkt')\n",
        "nltk.download('punkt_tab')"
      ],
      "metadata": {
        "id": "S_jVyVrsv1Qy",
        "outputId": "1f5c19b8-f7ca-4f79-c401-79088f8465d1",
        "colab": {
          "base_uri": "https://localhost:8080/"
        }
      },
      "execution_count": null,
      "outputs": [
        {
          "output_type": "stream",
          "name": "stderr",
          "text": [
            "[nltk_data] Downloading package punkt to /root/nltk_data...\n",
            "[nltk_data]   Unzipping tokenizers/punkt.zip.\n",
            "[nltk_data] Downloading package punkt_tab to /root/nltk_data...\n",
            "[nltk_data]   Unzipping tokenizers/punkt_tab.zip.\n"
          ]
        },
        {
          "output_type": "execute_result",
          "data": {
            "text/plain": [
              "True"
            ]
          },
          "metadata": {},
          "execution_count": 2
        }
      ]
    },
    {
      "cell_type": "code",
      "source": [
        "openai.api_key = \"\" # Fill with your OpenAI API key"
      ],
      "metadata": {
        "id": "iTmEiITzBwd6"
      },
      "execution_count": null,
      "outputs": []
    },
    {
      "cell_type": "code",
      "source": [
        "def trim(text, n_start, n_end):\n",
        "  # Split the sentence into a list of sentences\n",
        "  sentences = nltk.sent_tokenize(text)\n",
        "\n",
        "  # Slice the list to only include the first two sentences\n",
        "  trimmed_sentences = sentences[n_start:n_end]\n",
        "\n",
        "  # Join the sliced list of sentences back into a string\n",
        "  trimmed_sentence = \" \".join(trimmed_sentences)\n",
        "\n",
        "  return trimmed_sentence\n",
        "\n",
        "# trim(training_data, 0, 2)"
      ],
      "metadata": {
        "id": "3RotyfK_35q8"
      },
      "execution_count": null,
      "outputs": []
    },
    {
      "cell_type": "code",
      "source": [
        "import pandas as pd\n",
        "\n",
        "# Create an empty list to store DataFrames\n",
        "dfs = []\n",
        "\n",
        "pdf_files = [\n",
        "    [\"Geological Report\", \"/content/Discovery_report.pdf\"],\n",
        "    [\"Completion Report\", \"/content/COMPLETION_REPORT_1.PDF\"],\n",
        "    [\"Drilling Report\", \"/content/DRILLING_PROGRAMME_1.PDF\"]]\n",
        "\n",
        "interval = 10\n",
        "\n",
        "for f in pdf_files:\n",
        "    company_name = f[0]\n",
        "    pdf_file = open(f[1], \"rb\")\n",
        "    pdf_reader = PyPDF2.PdfReader(pdf_file)\n",
        "    text = \"\"\n",
        "    for page in range(len(pdf_reader.pages)):\n",
        "        text += pdf_reader.pages[page].extract_text()\n",
        "\n",
        "    # Clean and format document\n",
        "    training_data = text.replace(\"\\n\", \" \")\n",
        "\n",
        "    # NLTK\n",
        "    sentences = nltk.sent_tokenize(training_data)\n",
        "\n",
        "    # trim sentence\n",
        "    for l in range(0, len(sentences), interval):\n",
        "        trimmed_sentence = trim(training_data, l, l+interval)\n",
        "\n",
        "        # Append a new DataFrame to the list with the company name and trimmed sentence\n",
        "        dfs.append(pd.DataFrame({\"Article_ID\": [f\"{company_name}_{l}\"], \"Text\": [trimmed_sentence]}))\n",
        "\n",
        "# Concatenate all DataFrames into a single DataFrame\n",
        "df = pd.concat(dfs, ignore_index=True)\n"
      ],
      "metadata": {
        "id": "6hz-IkDyDFuT"
      },
      "execution_count": null,
      "outputs": []
    },
    {
      "cell_type": "code",
      "source": [
        "df"
      ],
      "metadata": {
        "colab": {
          "base_uri": "https://localhost:8080/",
          "height": 423
        },
        "id": "3hmmbP3_tVfI",
        "outputId": "520ac4c5-b26a-4948-909d-c57f2c1223d2"
      },
      "execution_count": null,
      "outputs": [
        {
          "output_type": "execute_result",
          "data": {
            "text/plain": [
              "               Article_ID                                               Text\n",
              "0     Geological Report_0  Denne rapport tilhører6 STATOIL LTEK DOK.SENTE...\n",
              "1    Geological Report_10  This includes seismic and structural interpret...\n",
              "2    Geological Report_20  . 74 5.6 Jurassic and Triassic sediment distri...\n",
              "3    Geological Report_30  progradation) 99 Figure 5.14 Isochore map, Bas...\n",
              "4    Geological Report_40  Scale 1:50000. 4 Time map, Top Mesozoic Sandst...\n",
              "..                    ...                                                ...\n",
              "355   Drilling Report_650  no Volve F-15 & F-15A Page 52 of 66     B.1.2 ...\n",
              "356   Drilling Report_660  No. 0    Well:  15/9-F-15 & F-15A Date 16.03.2...\n",
              "357   Drilling Report_670  0    Well:  15/9-F-15 & F-15A Date 16.03.2009 ...\n",
              "358   Drilling Report_680  no Volve F-15 & F-15A Page 62 of 66     C.1.3 ...\n",
              "359   Drilling Report_690  No. 0    Well:  15/9-F-15 & F-15A Date 16.03.2...\n",
              "\n",
              "[360 rows x 2 columns]"
            ],
            "text/html": [
              "\n",
              "  <div id=\"df-56d75e8e-d9a8-49e2-b65d-54a53d62fa51\" class=\"colab-df-container\">\n",
              "    <div>\n",
              "<style scoped>\n",
              "    .dataframe tbody tr th:only-of-type {\n",
              "        vertical-align: middle;\n",
              "    }\n",
              "\n",
              "    .dataframe tbody tr th {\n",
              "        vertical-align: top;\n",
              "    }\n",
              "\n",
              "    .dataframe thead th {\n",
              "        text-align: right;\n",
              "    }\n",
              "</style>\n",
              "<table border=\"1\" class=\"dataframe\">\n",
              "  <thead>\n",
              "    <tr style=\"text-align: right;\">\n",
              "      <th></th>\n",
              "      <th>Article_ID</th>\n",
              "      <th>Text</th>\n",
              "    </tr>\n",
              "  </thead>\n",
              "  <tbody>\n",
              "    <tr>\n",
              "      <th>0</th>\n",
              "      <td>Geological Report_0</td>\n",
              "      <td>Denne rapport tilhører6 STATOIL LTEK DOK.SENTE...</td>\n",
              "    </tr>\n",
              "    <tr>\n",
              "      <th>1</th>\n",
              "      <td>Geological Report_10</td>\n",
              "      <td>This includes seismic and structural interpret...</td>\n",
              "    </tr>\n",
              "    <tr>\n",
              "      <th>2</th>\n",
              "      <td>Geological Report_20</td>\n",
              "      <td>. 74 5.6 Jurassic and Triassic sediment distri...</td>\n",
              "    </tr>\n",
              "    <tr>\n",
              "      <th>3</th>\n",
              "      <td>Geological Report_30</td>\n",
              "      <td>progradation) 99 Figure 5.14 Isochore map, Bas...</td>\n",
              "    </tr>\n",
              "    <tr>\n",
              "      <th>4</th>\n",
              "      <td>Geological Report_40</td>\n",
              "      <td>Scale 1:50000. 4 Time map, Top Mesozoic Sandst...</td>\n",
              "    </tr>\n",
              "    <tr>\n",
              "      <th>...</th>\n",
              "      <td>...</td>\n",
              "      <td>...</td>\n",
              "    </tr>\n",
              "    <tr>\n",
              "      <th>355</th>\n",
              "      <td>Drilling Report_650</td>\n",
              "      <td>no Volve F-15 &amp; F-15A Page 52 of 66     B.1.2 ...</td>\n",
              "    </tr>\n",
              "    <tr>\n",
              "      <th>356</th>\n",
              "      <td>Drilling Report_660</td>\n",
              "      <td>No. 0    Well:  15/9-F-15 &amp; F-15A Date 16.03.2...</td>\n",
              "    </tr>\n",
              "    <tr>\n",
              "      <th>357</th>\n",
              "      <td>Drilling Report_670</td>\n",
              "      <td>0    Well:  15/9-F-15 &amp; F-15A Date 16.03.2009 ...</td>\n",
              "    </tr>\n",
              "    <tr>\n",
              "      <th>358</th>\n",
              "      <td>Drilling Report_680</td>\n",
              "      <td>no Volve F-15 &amp; F-15A Page 62 of 66     C.1.3 ...</td>\n",
              "    </tr>\n",
              "    <tr>\n",
              "      <th>359</th>\n",
              "      <td>Drilling Report_690</td>\n",
              "      <td>No. 0    Well:  15/9-F-15 &amp; F-15A Date 16.03.2...</td>\n",
              "    </tr>\n",
              "  </tbody>\n",
              "</table>\n",
              "<p>360 rows × 2 columns</p>\n",
              "</div>\n",
              "    <div class=\"colab-df-buttons\">\n",
              "\n",
              "  <div class=\"colab-df-container\">\n",
              "    <button class=\"colab-df-convert\" onclick=\"convertToInteractive('df-56d75e8e-d9a8-49e2-b65d-54a53d62fa51')\"\n",
              "            title=\"Convert this dataframe to an interactive table.\"\n",
              "            style=\"display:none;\">\n",
              "\n",
              "  <svg xmlns=\"http://www.w3.org/2000/svg\" height=\"24px\" viewBox=\"0 -960 960 960\">\n",
              "    <path d=\"M120-120v-720h720v720H120Zm60-500h600v-160H180v160Zm220 220h160v-160H400v160Zm0 220h160v-160H400v160ZM180-400h160v-160H180v160Zm440 0h160v-160H620v160ZM180-180h160v-160H180v160Zm440 0h160v-160H620v160Z\"/>\n",
              "  </svg>\n",
              "    </button>\n",
              "\n",
              "  <style>\n",
              "    .colab-df-container {\n",
              "      display:flex;\n",
              "      gap: 12px;\n",
              "    }\n",
              "\n",
              "    .colab-df-convert {\n",
              "      background-color: #E8F0FE;\n",
              "      border: none;\n",
              "      border-radius: 50%;\n",
              "      cursor: pointer;\n",
              "      display: none;\n",
              "      fill: #1967D2;\n",
              "      height: 32px;\n",
              "      padding: 0 0 0 0;\n",
              "      width: 32px;\n",
              "    }\n",
              "\n",
              "    .colab-df-convert:hover {\n",
              "      background-color: #E2EBFA;\n",
              "      box-shadow: 0px 1px 2px rgba(60, 64, 67, 0.3), 0px 1px 3px 1px rgba(60, 64, 67, 0.15);\n",
              "      fill: #174EA6;\n",
              "    }\n",
              "\n",
              "    .colab-df-buttons div {\n",
              "      margin-bottom: 4px;\n",
              "    }\n",
              "\n",
              "    [theme=dark] .colab-df-convert {\n",
              "      background-color: #3B4455;\n",
              "      fill: #D2E3FC;\n",
              "    }\n",
              "\n",
              "    [theme=dark] .colab-df-convert:hover {\n",
              "      background-color: #434B5C;\n",
              "      box-shadow: 0px 1px 3px 1px rgba(0, 0, 0, 0.15);\n",
              "      filter: drop-shadow(0px 1px 2px rgba(0, 0, 0, 0.3));\n",
              "      fill: #FFFFFF;\n",
              "    }\n",
              "  </style>\n",
              "\n",
              "    <script>\n",
              "      const buttonEl =\n",
              "        document.querySelector('#df-56d75e8e-d9a8-49e2-b65d-54a53d62fa51 button.colab-df-convert');\n",
              "      buttonEl.style.display =\n",
              "        google.colab.kernel.accessAllowed ? 'block' : 'none';\n",
              "\n",
              "      async function convertToInteractive(key) {\n",
              "        const element = document.querySelector('#df-56d75e8e-d9a8-49e2-b65d-54a53d62fa51');\n",
              "        const dataTable =\n",
              "          await google.colab.kernel.invokeFunction('convertToInteractive',\n",
              "                                                    [key], {});\n",
              "        if (!dataTable) return;\n",
              "\n",
              "        const docLinkHtml = 'Like what you see? Visit the ' +\n",
              "          '<a target=\"_blank\" href=https://colab.research.google.com/notebooks/data_table.ipynb>data table notebook</a>'\n",
              "          + ' to learn more about interactive tables.';\n",
              "        element.innerHTML = '';\n",
              "        dataTable['output_type'] = 'display_data';\n",
              "        await google.colab.output.renderOutput(dataTable, element);\n",
              "        const docLink = document.createElement('div');\n",
              "        docLink.innerHTML = docLinkHtml;\n",
              "        element.appendChild(docLink);\n",
              "      }\n",
              "    </script>\n",
              "  </div>\n",
              "\n",
              "\n",
              "<div id=\"df-30541896-8a07-45d8-96ec-187ee92d39cf\">\n",
              "  <button class=\"colab-df-quickchart\" onclick=\"quickchart('df-30541896-8a07-45d8-96ec-187ee92d39cf')\"\n",
              "            title=\"Suggest charts\"\n",
              "            style=\"display:none;\">\n",
              "\n",
              "<svg xmlns=\"http://www.w3.org/2000/svg\" height=\"24px\"viewBox=\"0 0 24 24\"\n",
              "     width=\"24px\">\n",
              "    <g>\n",
              "        <path d=\"M19 3H5c-1.1 0-2 .9-2 2v14c0 1.1.9 2 2 2h14c1.1 0 2-.9 2-2V5c0-1.1-.9-2-2-2zM9 17H7v-7h2v7zm4 0h-2V7h2v10zm4 0h-2v-4h2v4z\"/>\n",
              "    </g>\n",
              "</svg>\n",
              "  </button>\n",
              "\n",
              "<style>\n",
              "  .colab-df-quickchart {\n",
              "      --bg-color: #E8F0FE;\n",
              "      --fill-color: #1967D2;\n",
              "      --hover-bg-color: #E2EBFA;\n",
              "      --hover-fill-color: #174EA6;\n",
              "      --disabled-fill-color: #AAA;\n",
              "      --disabled-bg-color: #DDD;\n",
              "  }\n",
              "\n",
              "  [theme=dark] .colab-df-quickchart {\n",
              "      --bg-color: #3B4455;\n",
              "      --fill-color: #D2E3FC;\n",
              "      --hover-bg-color: #434B5C;\n",
              "      --hover-fill-color: #FFFFFF;\n",
              "      --disabled-bg-color: #3B4455;\n",
              "      --disabled-fill-color: #666;\n",
              "  }\n",
              "\n",
              "  .colab-df-quickchart {\n",
              "    background-color: var(--bg-color);\n",
              "    border: none;\n",
              "    border-radius: 50%;\n",
              "    cursor: pointer;\n",
              "    display: none;\n",
              "    fill: var(--fill-color);\n",
              "    height: 32px;\n",
              "    padding: 0;\n",
              "    width: 32px;\n",
              "  }\n",
              "\n",
              "  .colab-df-quickchart:hover {\n",
              "    background-color: var(--hover-bg-color);\n",
              "    box-shadow: 0 1px 2px rgba(60, 64, 67, 0.3), 0 1px 3px 1px rgba(60, 64, 67, 0.15);\n",
              "    fill: var(--button-hover-fill-color);\n",
              "  }\n",
              "\n",
              "  .colab-df-quickchart-complete:disabled,\n",
              "  .colab-df-quickchart-complete:disabled:hover {\n",
              "    background-color: var(--disabled-bg-color);\n",
              "    fill: var(--disabled-fill-color);\n",
              "    box-shadow: none;\n",
              "  }\n",
              "\n",
              "  .colab-df-spinner {\n",
              "    border: 2px solid var(--fill-color);\n",
              "    border-color: transparent;\n",
              "    border-bottom-color: var(--fill-color);\n",
              "    animation:\n",
              "      spin 1s steps(1) infinite;\n",
              "  }\n",
              "\n",
              "  @keyframes spin {\n",
              "    0% {\n",
              "      border-color: transparent;\n",
              "      border-bottom-color: var(--fill-color);\n",
              "      border-left-color: var(--fill-color);\n",
              "    }\n",
              "    20% {\n",
              "      border-color: transparent;\n",
              "      border-left-color: var(--fill-color);\n",
              "      border-top-color: var(--fill-color);\n",
              "    }\n",
              "    30% {\n",
              "      border-color: transparent;\n",
              "      border-left-color: var(--fill-color);\n",
              "      border-top-color: var(--fill-color);\n",
              "      border-right-color: var(--fill-color);\n",
              "    }\n",
              "    40% {\n",
              "      border-color: transparent;\n",
              "      border-right-color: var(--fill-color);\n",
              "      border-top-color: var(--fill-color);\n",
              "    }\n",
              "    60% {\n",
              "      border-color: transparent;\n",
              "      border-right-color: var(--fill-color);\n",
              "    }\n",
              "    80% {\n",
              "      border-color: transparent;\n",
              "      border-right-color: var(--fill-color);\n",
              "      border-bottom-color: var(--fill-color);\n",
              "    }\n",
              "    90% {\n",
              "      border-color: transparent;\n",
              "      border-bottom-color: var(--fill-color);\n",
              "    }\n",
              "  }\n",
              "</style>\n",
              "\n",
              "  <script>\n",
              "    async function quickchart(key) {\n",
              "      const quickchartButtonEl =\n",
              "        document.querySelector('#' + key + ' button');\n",
              "      quickchartButtonEl.disabled = true;  // To prevent multiple clicks.\n",
              "      quickchartButtonEl.classList.add('colab-df-spinner');\n",
              "      try {\n",
              "        const charts = await google.colab.kernel.invokeFunction(\n",
              "            'suggestCharts', [key], {});\n",
              "      } catch (error) {\n",
              "        console.error('Error during call to suggestCharts:', error);\n",
              "      }\n",
              "      quickchartButtonEl.classList.remove('colab-df-spinner');\n",
              "      quickchartButtonEl.classList.add('colab-df-quickchart-complete');\n",
              "    }\n",
              "    (() => {\n",
              "      let quickchartButtonEl =\n",
              "        document.querySelector('#df-30541896-8a07-45d8-96ec-187ee92d39cf button');\n",
              "      quickchartButtonEl.style.display =\n",
              "        google.colab.kernel.accessAllowed ? 'block' : 'none';\n",
              "    })();\n",
              "  </script>\n",
              "</div>\n",
              "\n",
              "  <div id=\"id_0c405ae0-f2ff-4ce6-8279-0124ca647dba\">\n",
              "    <style>\n",
              "      .colab-df-generate {\n",
              "        background-color: #E8F0FE;\n",
              "        border: none;\n",
              "        border-radius: 50%;\n",
              "        cursor: pointer;\n",
              "        display: none;\n",
              "        fill: #1967D2;\n",
              "        height: 32px;\n",
              "        padding: 0 0 0 0;\n",
              "        width: 32px;\n",
              "      }\n",
              "\n",
              "      .colab-df-generate:hover {\n",
              "        background-color: #E2EBFA;\n",
              "        box-shadow: 0px 1px 2px rgba(60, 64, 67, 0.3), 0px 1px 3px 1px rgba(60, 64, 67, 0.15);\n",
              "        fill: #174EA6;\n",
              "      }\n",
              "\n",
              "      [theme=dark] .colab-df-generate {\n",
              "        background-color: #3B4455;\n",
              "        fill: #D2E3FC;\n",
              "      }\n",
              "\n",
              "      [theme=dark] .colab-df-generate:hover {\n",
              "        background-color: #434B5C;\n",
              "        box-shadow: 0px 1px 3px 1px rgba(0, 0, 0, 0.15);\n",
              "        filter: drop-shadow(0px 1px 2px rgba(0, 0, 0, 0.3));\n",
              "        fill: #FFFFFF;\n",
              "      }\n",
              "    </style>\n",
              "    <button class=\"colab-df-generate\" onclick=\"generateWithVariable('df')\"\n",
              "            title=\"Generate code using this dataframe.\"\n",
              "            style=\"display:none;\">\n",
              "\n",
              "  <svg xmlns=\"http://www.w3.org/2000/svg\" height=\"24px\"viewBox=\"0 0 24 24\"\n",
              "       width=\"24px\">\n",
              "    <path d=\"M7,19H8.4L18.45,9,17,7.55,7,17.6ZM5,21V16.75L18.45,3.32a2,2,0,0,1,2.83,0l1.4,1.43a1.91,1.91,0,0,1,.58,1.4,1.91,1.91,0,0,1-.58,1.4L9.25,21ZM18.45,9,17,7.55Zm-12,3A5.31,5.31,0,0,0,4.9,8.1,5.31,5.31,0,0,0,1,6.5,5.31,5.31,0,0,0,4.9,4.9,5.31,5.31,0,0,0,6.5,1,5.31,5.31,0,0,0,8.1,4.9,5.31,5.31,0,0,0,12,6.5,5.46,5.46,0,0,0,6.5,12Z\"/>\n",
              "  </svg>\n",
              "    </button>\n",
              "    <script>\n",
              "      (() => {\n",
              "      const buttonEl =\n",
              "        document.querySelector('#id_0c405ae0-f2ff-4ce6-8279-0124ca647dba button.colab-df-generate');\n",
              "      buttonEl.style.display =\n",
              "        google.colab.kernel.accessAllowed ? 'block' : 'none';\n",
              "\n",
              "      buttonEl.onclick = () => {\n",
              "        google.colab.notebook.generateWithVariable('df');\n",
              "      }\n",
              "      })();\n",
              "    </script>\n",
              "  </div>\n",
              "\n",
              "    </div>\n",
              "  </div>\n"
            ],
            "application/vnd.google.colaboratory.intrinsic+json": {
              "type": "dataframe",
              "variable_name": "df",
              "summary": "{\n  \"name\": \"df\",\n  \"rows\": 360,\n  \"fields\": [\n    {\n      \"column\": \"Article_ID\",\n      \"properties\": {\n        \"dtype\": \"string\",\n        \"num_unique_values\": 360,\n        \"samples\": [\n          \"Completion Report_250\",\n          \"Geological Report_420\",\n          \"Completion Report_860\"\n        ],\n        \"semantic_type\": \"\",\n        \"description\": \"\"\n      }\n    },\n    {\n      \"column\": \"Text\",\n      \"properties\": {\n        \"dtype\": \"string\",\n        \"num_unique_values\": 360,\n        \"samples\": [\n          \"3.9 NO 15/9-F-15 A, 8 1/2\\\" (24.Dec.2008 10:00)   START: 24.Dec.2008 10:00  2591 mMD   END     : 08.Jan.2009 06:00  4095 mMD    OBJECTIVE   The main objective of the F-15 A was to optimise the design of the producer F-15 C of which the data aquisition is critical  information. SUMMARY   Ran in hole with 12 1/4\\\" BHA and drilled 13 3/8\\\" casing s hoetrack from 2534- to 2591 m MD while displacing to 1.25 sg  OBM. Circulated hole clean, spotted hi-vis pill and performed FIT to 1.56 sg. Performed drop gyro survey on the way out of  hole with the 12 1/4\\\" BHA. Made up and run in hole with 8 1/2\\\" BHA and drilled 8 1/2\\\"  hole section to 2596 m MD wh en having problems steering. POOH with BHA and run back up Xceed and jar. Continued to drill the 8 1/2\\\" s ection to 2616 m MD when experiencing pressure increase in SPP and flucutations on torque and  WOB. Reamed and worked area  while pumping viscous slugs. Drilled from 2616- to 3180 m MD weighing up to 1.32 sg at 292 0 m MD prior to enter Cromer  Knoll. Due to bad response  from Xceed it was decided to pull BHA out of hole.\",\n          \"shaley sandstone and breccia. In contrast, well 15/12-3 to the south had a Zechstein Gp. of 1154 m. Differences in the development of the Rotliegendes also indicates a more basin-margin environment in the Gamma High area. (Pegrum & Ljones 1984). In the Sleipner Terrace area, halokinetic movements probably have been of importance for the formation of the Sleipner Vest structuring, but it is uncertain how thick this salt has been. 39STATOIL 4.4.2 Mesozoicum In the northwestern Europe the Triassic was dominated by regional extension and rifting. During the early rifting phase the dominant lineament directions were north and northeast. The Viking Graben, Central Graben, the Egersund Basin and Moray Firth Basin were formed. The Gamma High, although being an extension of the Utsira High, still received sediments. The present thickness of Triassic sediments is in the order of 300-600m.\",\n          \"Circulated out ex cess cement with OBM at 2250 lpm. The ba lanced plug was set from 2892 m to 2692 m.    Fluids pumped Type Density    g/cm3 Volume  m3 Pump  Rate  l/min Pump  Press  bar Return Component Quantity Unit Density    g/cm3 Premixed  in  mixwater  Slurry Cement Slurry MPT14 1.92             Doc no     Date Rev no  86 of  94 FINAL WELL REPORT  Drilling Licence no: PL046BS, PL046BS, PL046BS Well: NO 15/9-F-15 A, NO 15/9-F-15 B, NO 15/9-F-15 C  12.08.2009 0        https://partners.statoil.com/sites/e5 996daa-4464-48cf-b2a7-751f98495a4b/Document library/FWR_NO 15_9-F-15[1].doc   Evaluation:  Job objectives met. PLUG NO: 3  TOP DEPTH:   BOTTOM DEPTH:   CASING SIZE:   HOLE DIAMETER:   CEMENTING TYPE:   REMARKS:       Objective:  Set KOP with TOC inside the 13 3/ 8\\u201d csg on top of second P&A plug     Execution:  Circulated and conditioned mud at 2 250 lpm prior to cement job. Pumped 7 m 3 1.65 SG spacer at 2250 lpm. Mixed and pumped 18.5 m3  2.0 SG G-cement slurry at 800 lpm. Displaced to drill floor with  SW. Lined over to mud pumps and displaced the cement with 22.5  m3  1.35 SG OBM at 2000 lpm. POOH from 2690 to 2432 m, 6 stands dry. Cleaned 3 1/2\\\" stinger by pumping 1 m3 OBM at 500 lpm. POOH  with 5 1/2\\\" DP from 2432 m to 2112 m. Pulled wet.\"\n        ],\n        \"semantic_type\": \"\",\n        \"description\": \"\"\n      }\n    }\n  ]\n}"
            }
          },
          "metadata": {},
          "execution_count": 31
        }
      ]
    },
    {
      "cell_type": "code",
      "source": [
        "COMPLETIONS_MODEL = \"gpt-3.5-turbo\"\n",
        "EMBEDDING_MODEL = \"text-embedding-ada-002\""
      ],
      "metadata": {
        "id": "h9OSm0-yExF2"
      },
      "execution_count": null,
      "outputs": []
    },
    {
      "cell_type": "code",
      "source": [
        "def get_embedding(text: str, model: str=EMBEDDING_MODEL) -> list[float]:\n",
        "    result = openai.Embedding.create(\n",
        "      model=model,\n",
        "      input=text\n",
        "    )\n",
        "    return result[\"data\"][0][\"embedding\"]\n",
        "\n",
        "def compute_doc_embeddings(df: pd.DataFrame) -> dict[tuple[str, str], list[float]]:\n",
        "    \"\"\"\n",
        "    Create an embedding for each row in the dataframe using the OpenAI Embeddings API.\n",
        "\n",
        "    Return a dictionary that maps between each embedding vector and the index of the row that it corresponds to.\n",
        "    \"\"\"\n",
        "    return {\n",
        "        idx: get_embedding(r.Text) for idx, r in df.iterrows()\n",
        "    }\n",
        "\n",
        "def load_embeddings(df):\n",
        "    \"\"\"\n",
        "    Read the document embeddings and their keys from a CSV.\n",
        "\n",
        "    fname is the path to a CSV with exactly these named columns:\n",
        "        \"title\", \"heading\", \"0\", \"1\", ... up to the length of the embedding vectors.\n",
        "    \"\"\"\n",
        "\n",
        "    # df = pd.read_csv(fname, header=0)\n",
        "    max_dim = max([int(c) for c in df.columns if c != \"title\" and c != \"heading\"])\n",
        "    return {\n",
        "           (r.title, r.heading): [r[str(i)] for i in range(max_dim + 1)] for _, r in df.iterrows()\n",
        "    }"
      ],
      "metadata": {
        "id": "3l9Bcd-eDM5S"
      },
      "execution_count": null,
      "outputs": []
    },
    {
      "cell_type": "code",
      "source": [
        "embed_df = compute_doc_embeddings(df)\n",
        "\n",
        "embed_df"
      ],
      "metadata": {
        "id": "OurLwlRBHS3G"
      },
      "execution_count": null,
      "outputs": []
    },
    {
      "cell_type": "code",
      "source": [
        "# An example embedding:\n",
        "example_entry = list(embed_df.items())[0]\n",
        "print(f\"{example_entry[0]} : {example_entry[1][:5]}... ({len(example_entry[1])} entries)\")"
      ],
      "metadata": {
        "id": "Kdw8md-xH6A8",
        "outputId": "e7476bdd-950b-40d9-ec44-99e551969c31",
        "colab": {
          "base_uri": "https://localhost:8080/"
        }
      },
      "execution_count": null,
      "outputs": [
        {
          "output_type": "stream",
          "name": "stdout",
          "text": [
            "0 : [-0.006125323474407196, -0.008757434785366058, 0.012355233542621136, -0.03977102413773537, -0.007028259336948395]... (1536 entries)\n"
          ]
        }
      ]
    },
    {
      "cell_type": "code",
      "source": [
        "import numpy as np\n",
        "\n",
        "def vector_similarity(x: list[float], y: list[float]) -> float:\n",
        "    \"\"\"\n",
        "    Returns the similarity between two vectors.\n",
        "\n",
        "    Because OpenAI Embeddings are normalized to length 1, the cosine similarity is the same as the dot product.\n",
        "    \"\"\"\n",
        "    return np.dot(np.array(x), np.array(y))\n",
        "\n",
        "def order_document_sections_by_query_similarity(query: str, contexts: dict[(str, str), np.array]) -> list[(float, (str, str))]:\n",
        "    \"\"\"\n",
        "    Find the query embedding for the supplied query, and compare it against all of the pre-calculated document embeddings\n",
        "    to find the most relevant sections.\n",
        "\n",
        "    Return the list of document sections, sorted by relevance in descending order.\n",
        "    \"\"\"\n",
        "    query_embedding = get_embedding(query)\n",
        "\n",
        "    document_similarities = sorted([\n",
        "        (vector_similarity(query_embedding, doc_embedding), doc_index) for doc_index, doc_embedding in contexts.items()\n",
        "    ], reverse=True)\n",
        "\n",
        "    return document_similarities"
      ],
      "metadata": {
        "id": "tfbWhWfdIC52"
      },
      "execution_count": null,
      "outputs": []
    },
    {
      "cell_type": "code",
      "source": [
        "order_document_sections_by_query_similarity(\"What is the lithology of the field?\", embed_df)[:5]"
      ],
      "metadata": {
        "id": "z0DNO7_2IOO7",
        "outputId": "bb469822-eb14-4fce-ae06-f9c0cd8c6f15",
        "colab": {
          "base_uri": "https://localhost:8080/"
        }
      },
      "execution_count": null,
      "outputs": [
        {
          "output_type": "execute_result",
          "data": {
            "text/plain": [
              "[(0.8497804042188715, 57),\n",
              " (0.8453651125238638, 61),\n",
              " (0.8397181506960563, 60),\n",
              " (0.8374355996977627, 59),\n",
              " (0.8328094379563438, 72)]"
            ]
          },
          "metadata": {},
          "execution_count": 13
        }
      ]
    },
    {
      "cell_type": "code",
      "source": [
        "import tiktoken\n",
        "\n",
        "MAX_SECTION_LEN = 500\n",
        "SEPARATOR = \"\\n* \"\n",
        "ENCODING = \"cl100k_base\"  # Suitable for gpt-3.5-turbo and gpt-4\n",
        "\n",
        "encoding = tiktoken.get_encoding(ENCODING)\n",
        "separator_len = len(encoding.encode(SEPARATOR))\n",
        "\n",
        "COMPLETIONS_API_PARAMS = {\n",
        "    # Temperature of 0.5 for balanced outputs.\n",
        "    \"temperature\": 0.9,\n",
        "    \"max_tokens\": 2000,\n",
        "    \"model\": \"gpt-3.5-turbo\",  # Replace with your desired model\n",
        "}"
      ],
      "metadata": {
        "id": "EXEq_RCPuyuI"
      },
      "execution_count": null,
      "outputs": []
    },
    {
      "cell_type": "code",
      "source": [
        "def construct_prompt(question: str, context_embeddings: dict, df: pd.DataFrame) -> str:\n",
        "    \"\"\"\n",
        "    Fetch relevant\n",
        "    \"\"\"\n",
        "    most_relevant_document_sections = order_document_sections_by_query_similarity(question, context_embeddings)\n",
        "\n",
        "    chosen_sections = []\n",
        "    chosen_sections_len = 0\n",
        "    chosen_sections_indexes = []\n",
        "\n",
        "    for _, section_index in most_relevant_document_sections:\n",
        "        # Add contexts until we run out of space.\n",
        "        document_section = df.loc[section_index]\n",
        "\n",
        "        chosen_sections_len += 100 + separator_len\n",
        "        if chosen_sections_len > MAX_SECTION_LEN:\n",
        "            break\n",
        "\n",
        "        chosen_sections.append(SEPARATOR + document_section.Text.replace(\"\\n\", \" \"))\n",
        "        chosen_sections_indexes.append(str(section_index))\n",
        "\n",
        "    # Useful diagnostic information\n",
        "    # print(f\"Selected {len(chosen_sections)} document sections:\")\n",
        "    # print(\"\\n\".join(chosen_sections_indexes))\n",
        "\n",
        "    header = \"\"\"Answer the question as truthfully as possible using the provided context, and if the answer is not contained within the text below, say \"I don't know.\"\\n\\nContext:\\n\"\"\"\n",
        "\n",
        "    return header + \"\".join(chosen_sections) + \"\\n\\n Q: \" + question + \"\\n A:\"\n",
        "\n"
      ],
      "metadata": {
        "id": "bSC5zBRFInwO"
      },
      "execution_count": null,
      "outputs": []
    },
    {
      "cell_type": "code",
      "source": [
        "def answer_query_with_context(\n",
        "    query: str,\n",
        "    df: pd.DataFrame,\n",
        "    document_embeddings: dict[tuple[str, str], np.ndarray],\n",
        "    show_prompt: bool = False\n",
        ") -> str:\n",
        "    # Construct the prompt using your custom logic\n",
        "    prompt = construct_prompt(\n",
        "        query,\n",
        "        document_embeddings,\n",
        "        df\n",
        "    )\n",
        "\n",
        "    if show_prompt:\n",
        "        print(\"Constructed Prompt:\\n\", prompt)\n",
        "\n",
        "    # Use the ChatCompletion API with messages\n",
        "    response = openai.ChatCompletion.create(\n",
        "        # model=\"gpt-3.5-turbo\",\n",
        "        messages=[\n",
        "            {\"role\": \"system\", \"content\": \"You are a helpful assistant.\"},\n",
        "            {\"role\": \"user\", \"content\": prompt}\n",
        "        ],\n",
        "        **COMPLETIONS_API_PARAMS\n",
        "    )\n",
        "\n",
        "    # Extract and return the response content\n",
        "    return response[\"choices\"][0][\"message\"][\"content\"].strip()"
      ],
      "metadata": {
        "id": "bJRtssk10C78"
      },
      "execution_count": null,
      "outputs": []
    },
    {
      "cell_type": "code",
      "source": [
        "answer_query_with_context(\"is there any second attempt to perform second casing pressure?\",\n",
        "                          df, embed_df, show_prompt=True)"
      ],
      "metadata": {
        "id": "XxMQ6rPdKo1v",
        "outputId": "ffe3ac1d-634a-419e-a0fa-891d886bb9ab",
        "colab": {
          "base_uri": "https://localhost:8080/",
          "height": 288
        }
      },
      "execution_count": null,
      "outputs": [
        {
          "output_type": "stream",
          "name": "stdout",
          "text": [
            "Constructed Prompt:\n",
            " Answer the question as truthfully as possible using the provided context, and if the answer is not contained within the text below, say \"I don't know.\"\n",
            "\n",
            "Context:\n",
            "\n",
            "* When pressuring up the well to 75 bar a pressure drop of 1. 6 bar/10 min decreasing to 1.3 bar/10 min was experienced. Drilled out 20\" casing shoetrack, spotted LCM pill and attempted to perform second casing pressure test to 75 bar without  success. This time having a 1 bar/10 min pressure drop. Decided to leave out the casing pressure test and instead perform sufficient FIT below the 20” csg shoe as a part of the 17 ½”  section, ref dispensation nr 76943. BIT RUNS   26\" Smith Bits, Bit Type: XR+C (rerun) 2x22 1x20 1x18 TFA=1.298, IADC 115  S/N MY6318    DRILLING FLUID   The 26\" section was drilled with seawater and hi-vis sweeps. At TD the well was circulated clean with 30 m 3 hi-vis, 30 m3 seawater and finally another 30 m3 hi-vis sweep before displacing  well to 1.40 SG mud. Due to tight spots while POOH the well was circulated clean with sea water and RIH to  TD again. The well was then displaced  back to 1.40 SG mud to above Utsira Fm. befo re lubracting out of hole from 1378- to 798 m MD.\n",
            "* The test pressure was downgraded to 75 bar based on: No hy drocarbons expected in  the section below the 20\" casing and  therefore kick margin is the definition criteria for the 20\" test. Attempted to leak test 20\" casing, HPDR tie -back connector and HPDR to 75 bar, NO-GO. Dispensation nr 76943  has been prepared and approved to drill the hole section below the 20\" casing shoe on F-15 and F-15 A  without qualified casing test in case the planned LCM pill does not cure the leak  inside the shoetrack. Doc no     Date Rev no  8 of  94 FINAL WELL REPORT  Drilling Licence no: PL046BS, PL046BS, PL046BS Well: NO 15/9-F-15 A, NO 15/9-F-15 B, NO 15/9-F-15 C  12.08.2009 0        https://partners.statoil.com/sites/e5 996daa-4464-48cf-b2a7-751f98495a4b/Document library/FWR_NO 15_9-F-15[1].doc Considered use of RTTS for leak detecti on purpose. This was not possible due to 20\" RTTS will not pass restriction ib 20\"  subsea wellhead on Volve, RTTS OD=17,870\"  and wellhead minimum ID=17,562\" (i n landings shoulder for next casing  hanger). Future recommended solution:      Subject:   Ambigiuos / unclear detaiils in DOP   Section:   NO 15/9-F-15 A, 17 1/2\"  Rep date: 18.Dec.2008    Keywords: PLANNING    Downtime:  1.75   Pot time improvements:  3  Comp inv: Mærsk Contractors   References:    Synergi no:  1057918    Cost:    105000  Synergi desc:  Synergi 1057918 (Closed)  -  17.12.2008  -  Other non-conformities  -  Malfunction on FMS (flush mounted  spider)  When rigging up for running casing the procedure was ambiguos on which type of slips to be used, PS-30 or the Odfjell FSM. For severeal reasons it was decided to run the FMS. It was clamied by the supplier that there was no  hydraulic panel provided for the job. Hence the FMS was hooked up to the rig hydraulics. When functioning the  slips, this did not work as intended.\n",
            "* Subsequently,  added 2 sacks per hour each of SteelSeal, Baracarb 150 and Baracarb 50 to maintain concentration in active volume to ~30 kg/m3. CASING   No liner run in this section due to hole section being plugged back after collecting reservoir data to optimize producer F-15 C . MWD/BHA   The section was drilled with Powerdrive Xceed. MWD/LWD:   - Ecoscope, Telescope, Isonic and Stethoscope run on all three bit runs. Three BHA was run in total. The first run was pulled due to unexplainable pressure spikes observed at 2596 m MD when pulling off bottom to take survey. After this weight were taken followed by a pressure increase each time trying to go back down on bottom. No reduction in  flow nor torque were seen. It was decided to pull out of hole to run back up Xceed and jar. When at surface both the Xceed  tool and the jar was inspected without any evidence of someth ing being wrong with them.\n",
            "* Ran and cemented 9 5/8\" x 10 3/4\" csg w ith casing shoe at 2915 m MD and top of 10 3/4\" csg hanger at 140.1 m MD. As a part of the riser change from HPDR to PR a casing pressu re test to 210 bar/1.25 sg wa s performed from below RTTS set  at 319 m MD. MU and RIH with the 8 1/2\" BHA and tagged TOC at 2881.8 m MD. Increased MW from 1.25- to 1.32 sg. Drilled out the 9  5/8\" csg shoe. BIT RUNS   Both runs were run with  12 1/4\" Smith MDI716-M323 S/N JY0114  Nozzle configuration 6x14, 1x15  TFA 1,075. Final dull grading after drillling to TD with back up Xceed;   1 1 NO A X I NO TD    DRILLING FLUID   The section was drilled with 1.25 sg Enviromul OBM adding 2 sx s of Baracarb 50 and 150 per hour to maintain supply from  fresh bridging material (LCM) in mud. CASING   Ran 150 meters of 9 5/8\" Vam Top- and 968  meters of 9 5/8\" Vam Top HC NA casing. Crossed over to 10 3/4\" csg and run  1656 m of 10 3/4\" Vam Top casing. RIH down to 2911 m MD and circulated down and landed 10 3/ 4\" hanger at 140.1 m MD with 9 5/8\" liner shoe at 2914.8 m  MD.\n",
            "\n",
            " Q: is there any second attempt to perform second casing pressure?\n",
            " A:\n"
          ]
        },
        {
          "output_type": "execute_result",
          "data": {
            "text/plain": [
              "'Yes, there was a second attempt to perform a second casing pressure test to 75 bar, but it was not successful.'"
            ],
            "application/vnd.google.colaboratory.intrinsic+json": {
              "type": "string"
            }
          },
          "metadata": {},
          "execution_count": 33
        }
      ]
    },
    {
      "cell_type": "code",
      "source": [
        "import json\n",
        "\n",
        "with open(\"embeddings.json\", \"w\", encoding=\"utf-8\") as json_file:\n",
        "    json.dump(embed_df, json_file, indent=4)"
      ],
      "metadata": {
        "id": "P7VC0cC21dPg"
      },
      "execution_count": null,
      "outputs": []
    },
    {
      "cell_type": "code",
      "source": [
        "df.to_csv(\"text-chunks.csv\")"
      ],
      "metadata": {
        "id": "VRZ8URk7TDHY"
      },
      "execution_count": null,
      "outputs": []
    }
  ],
  "metadata": {
    "colab": {
      "provenance": [],
      "include_colab_link": true
    },
    "kernelspec": {
      "display_name": "Python 3",
      "name": "python3"
    }
  },
  "nbformat": 4,
  "nbformat_minor": 0
}